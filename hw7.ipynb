{
 "cells": [
  {
   "cell_type": "code",
   "execution_count": 2,
   "metadata": {},
   "outputs": [],
   "source": [
    "import matplotlib.pyplot as plt\n",
    "import numpy as np\n",
    "import random\n",
    "import pandas as pd\n",
    "\n",
    "from mpl_toolkits.mplot3d import Axes3D\n",
    "from matplotlib import cm\n",
    "from matplotlib.ticker import LinearLocator, FormatStrFormatter\n",
    "from scipy.optimize import minimize\n",
    "from scipy.optimize import approx_fprime\n",
    "from scipy.optimize import differential_evolution\n",
    "from scipy.special import binom\n",
    "\n",
    "%matplotlib inline"
   ]
  },
  {
   "cell_type": "markdown",
   "metadata": {},
   "source": [
    "Монетку подбрасывают 15 раз, найдите вероятность выпадения простого числа (решение на бумажке и на python)."
   ]
  },
  {
   "cell_type": "code",
   "execution_count": 3,
   "metadata": {},
   "outputs": [
    {
     "data": {
      "text/plain": [
       "0.34995"
      ]
     },
     "execution_count": 3,
     "metadata": {},
     "output_type": "execute_result"
    }
   ],
   "source": [
    "# in python\n",
    "np.random.seed(33)\n",
    "n = 100000\n",
    "prime = [2,3,5,7,11,13]\n",
    "np.isin(np.random.randint(2, size = (n, 15)).sum(axis = 1),prime).mean()"
   ]
  },
  {
   "cell_type": "code",
   "execution_count": 20,
   "metadata": {},
   "outputs": [
    {
     "data": {
      "text/plain": [
       "0.35035"
      ]
     },
     "execution_count": 20,
     "metadata": {},
     "output_type": "execute_result"
    }
   ],
   "source": [
    "# with bin dis\n",
    "np.random.seed(33)\n",
    "p = 0.5\n",
    "sum([1 for i in np.random.binomial(15, p, size=n) if i in prime])/n"
   ]
  },
  {
   "cell_type": "code",
   "execution_count": null,
   "metadata": {},
   "outputs": [],
   "source": []
  },
  {
   "cell_type": "code",
   "execution_count": null,
   "metadata": {},
   "outputs": [],
   "source": [
    "# on a sheet\n",
    "\n",
    "p(2) = C(15,2) * (0.5 ** 2) * (0.5 ** 13) = C(15,2) * (0.5 ** 15)\n",
    "p(3) = C(15,3) * (0.5 ** 3) * (0.5 ** 12) = C(15,3) * (0.5 ** 15)\n",
    "p(5) = C(15,5) * (0.5 ** 5) * (0.5 ** 10) = C(15,5) * (0.5 ** 15)\n",
    "p(7) = C(15,7) * (0.5 ** 7) * (0.5 ** 8) = C(15,7) * (0.5 ** 15)\n",
    "p(11) = C(15,11) * (0.5 ** 11) * (0.5 ** 4) = C(15,11) * (0.5 ** 15)\n",
    "p(13) = C(15,13) * (0.5 ** 13) * (0.5 ** 2) = C(15,13) * (0.5 ** 15)\n",
    "\n",
    "p(res) = p(2) + p(3) + p(5) + p(7) + p(11) + p(13) \n",
    "       = (C(15,2) + C(15,3) + C(15,5) + C(15,7) + C(15, 11) + C(15,13)) * (0.5 ** 15) = 0.35\n"
   ]
  },
  {
   "cell_type": "code",
   "execution_count": 7,
   "metadata": {},
   "outputs": [
    {
     "data": {
      "text/plain": [
       "0.3499755859375"
      ]
     },
     "execution_count": 7,
     "metadata": {},
     "output_type": "execute_result"
    }
   ],
   "source": [
    "sum([binom(15, i) for i in prime]) * (0.5 ** 15)"
   ]
  },
  {
   "cell_type": "code",
   "execution_count": null,
   "metadata": {},
   "outputs": [],
   "source": []
  },
  {
   "cell_type": "markdown",
   "metadata": {},
   "source": [
    "Создайте свою дискретную случайную величину с не менее, чем 10 значениями. Просемплируйте 1000 случайных значений, постройте гистограмму плотности распределения по выборке, посчитайте среднее, дисперсию и медиану."
   ]
  },
  {
   "cell_type": "code",
   "execution_count": 137,
   "metadata": {},
   "outputs": [
    {
     "name": "stdout",
     "output_type": "stream",
     "text": [
      "mean: 53.42\n",
      "med: 61.0\n",
      "var: 752.4780780780794\n"
     ]
    },
    {
     "data": {
      "image/png": "[encoded data removed]",
      "text/plain": [
       "<Figure size 432x288 with 1 Axes>"
      ]
     },
     "metadata": {
      "needs_background": "light"
     },
     "output_type": "display_data"
    }
   ],
   "source": [
    "np.random.seed(33)\n",
    "lst = np.random.randint(100, size = 10)\n",
    "\n",
    "tmp = pd.Series(np.random.choice(lst, size = 1000))\n",
    "tmp.hist(density=True)\n",
    "print('mean:',tmp.mean())\n",
    "print('med:', tmp.median())\n",
    "print('var:', tmp.var())"
   ]
  },
  {
   "cell_type": "code",
   "execution_count": null,
   "metadata": {},
   "outputs": [],
   "source": []
  },
  {
   "cell_type": "code",
   "execution_count": null,
   "metadata": {},
   "outputs": [],
   "source": []
  },
  {
   "cell_type": "code",
   "execution_count": null,
   "metadata": {},
   "outputs": [],
   "source": []
  },
  {
   "cell_type": "code",
   "execution_count": null,
   "metadata": {},
   "outputs": [],
   "source": []
  },
  {
   "cell_type": "code",
   "execution_count": null,
   "metadata": {},
   "outputs": [],
   "source": []
  },
  {
   "cell_type": "code",
   "execution_count": null,
   "metadata": {},
   "outputs": [],
   "source": []
  },
  {
   "cell_type": "code",
   "execution_count": null,
   "metadata": {},
   "outputs": [],
   "source": []
  }
 ],
 "metadata": {
  "kernelspec": {
   "display_name": "Python 3",
   "language": "python",
   "name": "python3"
  },
  "language_info": {
   "codemirror_mode": {
    "name": "ipython",
    "version": 3
   },
   "file_extension": ".py",
   "mimetype": "text/x-python",
   "name": "python",
   "nbconvert_exporter": "python",
   "pygments_lexer": "ipython3",
   "version": "3.7.4"
  }
 },
 "nbformat": 4,
 "nbformat_minor": 2
}
